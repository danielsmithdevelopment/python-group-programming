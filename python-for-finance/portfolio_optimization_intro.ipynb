{
  "nbformat": 4,
  "nbformat_minor": 0,
  "metadata": {
    "colab": {
      "name": "Untitled0.ipynb",
      "provenance": [],
      "authorship_tag": "ABX9TyPyu3ayNdvj2gYzJrDetc2k",
      "include_colab_link": true
    },
    "kernelspec": {
      "name": "python3",
      "display_name": "Python 3"
    }
  },
  "cells": [
    {
      "cell_type": "markdown",
      "metadata": {
        "id": "view-in-github",
        "colab_type": "text"
      },
      "source": [
        "<a href=\"https://colab.research.google.com/github/danielsmithdevelopment/python-group-programming/blob/python-for-finance/portfolio_optimization_intro.ipynb\" target=\"_parent\"><img src=\"https://colab.research.google.com/assets/colab-badge.svg\" alt=\"Open In Colab\"/></a>"
      ]
    },
    {
      "cell_type": "code",
      "metadata": {
        "id": "IMtnfAQTrvLo",
        "colab_type": "code",
        "colab": {}
      },
      "source": [
        "# Description: Program attempts to optimize a user's portfolio using Efficient Frontier"
      ],
      "execution_count": 22,
      "outputs": []
    },
    {
      "cell_type": "code",
      "metadata": {
        "id": "etNsAqY0sDWT",
        "colab_type": "code",
        "colab": {}
      },
      "source": [
        "# Import libraries\n",
        "from pandas_datareader import data as web\n",
        "import pandas as pd\n",
        "import numpy as np\n",
        "from datetime import datetime\n",
        "import matplotlib.pyplot as plt\n",
        "plt.style.use('fivethirtyeight')"
      ],
      "execution_count": 23,
      "outputs": []
    },
    {
      "cell_type": "code",
      "metadata": {
        "id": "N5bWKDFbsfMq",
        "colab_type": "code",
        "colab": {}
      },
      "source": [
        "# Get stock symbols/tickers in portfolio\n",
        "assets = ['FB', 'AMZN', 'AAPL', 'NFLX', 'GOOG', 'MSFT', 'O', 'STAG', 'HON', 'RTX']"
      ],
      "execution_count": 24,
      "outputs": []
    },
    {
      "cell_type": "code",
      "metadata": {
        "id": "2hfrJ_1pszqu",
        "colab_type": "code",
        "colab": {}
      },
      "source": [
        "# Assign weights to stocks\n",
        "weights = np.array([0.1, 0.1, 0.1, 0.1, 0.1, 0.1, 0.1, 0.1, 0.1, 0.1])"
      ],
      "execution_count": 25,
      "outputs": []
    },
    {
      "cell_type": "code",
      "metadata": {
        "id": "6yXJvLRHs_Qr",
        "colab_type": "code",
        "colab": {}
      },
      "source": [
        "# Get the stock/portfolio starting date\n",
        "stockStartDate = '2013-01-01'"
      ],
      "execution_count": 26,
      "outputs": []
    },
    {
      "cell_type": "code",
      "metadata": {
        "id": "YpNIvhMXtNNo",
        "colab_type": "code",
        "colab": {}
      },
      "source": [
        "# Get the stock/portfolio ending date\n",
        "today = datetime.today().strftime('%Y-%m-%d')"
      ],
      "execution_count": 27,
      "outputs": []
    },
    {
      "cell_type": "code",
      "metadata": {
        "id": "TWCvCZTAtbYe",
        "colab_type": "code",
        "colab": {}
      },
      "source": [
        "# Create a dataframe to store the adjusted close price of stocks\n",
        "df = pd.DataFrame()\n",
        "\n",
        "# Store the adjusted close price of the stock into the dataframe\n",
        "for stock in assets:\n",
        "  df[stock] = web.DataReader(stock, data_source='yahoo', start = stockStartDate, end = today)['Adj Close']"
      ],
      "execution_count": 28,
      "outputs": []
    },
    {
      "cell_type": "code",
      "metadata": {
        "id": "Q_wAgizxuBwz",
        "colab_type": "code",
        "colab": {
          "base_uri": "https://localhost:8080/",
          "height": 640
        },
        "outputId": "fc9260cc-4d00-4240-88f4-48ba333c9d0c"
      },
      "source": [
        "# Show dataframe\n",
        "df"
      ],
      "execution_count": 29,
      "outputs": [
        {
          "output_type": "execute_result",
          "data": {
            "text/html": [
              "<div>\n",
              "<style scoped>\n",
              "    .dataframe tbody tr th:only-of-type {\n",
              "        vertical-align: middle;\n",
              "    }\n",
              "\n",
              "    .dataframe tbody tr th {\n",
              "        vertical-align: top;\n",
              "    }\n",
              "\n",
              "    .dataframe thead th {\n",
              "        text-align: right;\n",
              "    }\n",
              "</style>\n",
              "<table border=\"1\" class=\"dataframe\">\n",
              "  <thead>\n",
              "    <tr style=\"text-align: right;\">\n",
              "      <th></th>\n",
              "      <th>FB</th>\n",
              "      <th>AMZN</th>\n",
              "      <th>AAPL</th>\n",
              "      <th>NFLX</th>\n",
              "      <th>GOOG</th>\n",
              "      <th>MSFT</th>\n",
              "      <th>O</th>\n",
              "      <th>STAG</th>\n",
              "      <th>HON</th>\n",
              "      <th>RTX</th>\n",
              "    </tr>\n",
              "    <tr>\n",
              "      <th>Date</th>\n",
              "      <th></th>\n",
              "      <th></th>\n",
              "      <th></th>\n",
              "      <th></th>\n",
              "      <th></th>\n",
              "      <th></th>\n",
              "      <th></th>\n",
              "      <th></th>\n",
              "      <th></th>\n",
              "      <th></th>\n",
              "    </tr>\n",
              "  </thead>\n",
              "  <tbody>\n",
              "    <tr>\n",
              "      <th>2013-01-02</th>\n",
              "      <td>28.000000</td>\n",
              "      <td>257.309998</td>\n",
              "      <td>68.378807</td>\n",
              "      <td>13.144286</td>\n",
              "      <td>360.274597</td>\n",
              "      <td>23.241472</td>\n",
              "      <td>29.039598</td>\n",
              "      <td>11.777233</td>\n",
              "      <td>52.177025</td>\n",
              "      <td>43.797398</td>\n",
              "    </tr>\n",
              "    <tr>\n",
              "      <th>2013-01-03</th>\n",
              "      <td>27.770000</td>\n",
              "      <td>258.480011</td>\n",
              "      <td>67.515701</td>\n",
              "      <td>13.798572</td>\n",
              "      <td>360.483826</td>\n",
              "      <td>22.930120</td>\n",
              "      <td>28.954830</td>\n",
              "      <td>11.680486</td>\n",
              "      <td>52.378479</td>\n",
              "      <td>43.959026</td>\n",
              "    </tr>\n",
              "    <tr>\n",
              "      <th>2013-01-04</th>\n",
              "      <td>28.760000</td>\n",
              "      <td>259.149994</td>\n",
              "      <td>65.635078</td>\n",
              "      <td>13.711429</td>\n",
              "      <td>367.607117</td>\n",
              "      <td>22.500971</td>\n",
              "      <td>29.195004</td>\n",
              "      <td>11.686932</td>\n",
              "      <td>53.450203</td>\n",
              "      <td>44.308376</td>\n",
              "    </tr>\n",
              "    <tr>\n",
              "      <th>2013-01-07</th>\n",
              "      <td>29.420000</td>\n",
              "      <td>268.459991</td>\n",
              "      <td>65.249001</td>\n",
              "      <td>14.171429</td>\n",
              "      <td>366.003143</td>\n",
              "      <td>22.458902</td>\n",
              "      <td>29.491674</td>\n",
              "      <td>11.751427</td>\n",
              "      <td>53.474392</td>\n",
              "      <td>44.094601</td>\n",
              "    </tr>\n",
              "    <tr>\n",
              "      <th>2013-01-08</th>\n",
              "      <td>29.059999</td>\n",
              "      <td>266.380005</td>\n",
              "      <td>65.424622</td>\n",
              "      <td>13.880000</td>\n",
              "      <td>365.280823</td>\n",
              "      <td>22.341091</td>\n",
              "      <td>29.618818</td>\n",
              "      <td>11.996520</td>\n",
              "      <td>52.974777</td>\n",
              "      <td>43.562771</td>\n",
              "    </tr>\n",
              "    <tr>\n",
              "      <th>...</th>\n",
              "      <td>...</td>\n",
              "      <td>...</td>\n",
              "      <td>...</td>\n",
              "      <td>...</td>\n",
              "      <td>...</td>\n",
              "      <td>...</td>\n",
              "      <td>...</td>\n",
              "      <td>...</td>\n",
              "      <td>...</td>\n",
              "      <td>...</td>\n",
              "    </tr>\n",
              "    <tr>\n",
              "      <th>2020-08-24</th>\n",
              "      <td>271.390015</td>\n",
              "      <td>3307.459961</td>\n",
              "      <td>503.429993</td>\n",
              "      <td>488.809998</td>\n",
              "      <td>1588.199951</td>\n",
              "      <td>213.690002</td>\n",
              "      <td>62.439999</td>\n",
              "      <td>32.202007</td>\n",
              "      <td>159.369995</td>\n",
              "      <td>61.880001</td>\n",
              "    </tr>\n",
              "    <tr>\n",
              "      <th>2020-08-25</th>\n",
              "      <td>280.820007</td>\n",
              "      <td>3346.489990</td>\n",
              "      <td>499.299988</td>\n",
              "      <td>490.579987</td>\n",
              "      <td>1608.219971</td>\n",
              "      <td>216.470001</td>\n",
              "      <td>62.570000</td>\n",
              "      <td>32.371391</td>\n",
              "      <td>164.529999</td>\n",
              "      <td>60.950001</td>\n",
              "    </tr>\n",
              "    <tr>\n",
              "      <th>2020-08-26</th>\n",
              "      <td>303.910004</td>\n",
              "      <td>3441.850098</td>\n",
              "      <td>506.089996</td>\n",
              "      <td>547.530029</td>\n",
              "      <td>1652.380005</td>\n",
              "      <td>221.149994</td>\n",
              "      <td>61.680000</td>\n",
              "      <td>32.471024</td>\n",
              "      <td>165.309998</td>\n",
              "      <td>60.770000</td>\n",
              "    </tr>\n",
              "    <tr>\n",
              "      <th>2020-08-27</th>\n",
              "      <td>293.220001</td>\n",
              "      <td>3400.000000</td>\n",
              "      <td>500.040009</td>\n",
              "      <td>526.270020</td>\n",
              "      <td>1634.329956</td>\n",
              "      <td>226.580002</td>\n",
              "      <td>62.500000</td>\n",
              "      <td>32.750000</td>\n",
              "      <td>165.990005</td>\n",
              "      <td>60.900002</td>\n",
              "    </tr>\n",
              "    <tr>\n",
              "      <th>2020-08-28</th>\n",
              "      <td>293.660004</td>\n",
              "      <td>3401.800049</td>\n",
              "      <td>499.230011</td>\n",
              "      <td>523.890015</td>\n",
              "      <td>1644.410034</td>\n",
              "      <td>228.910004</td>\n",
              "      <td>63.439999</td>\n",
              "      <td>32.529999</td>\n",
              "      <td>168.380005</td>\n",
              "      <td>62.240002</td>\n",
              "    </tr>\n",
              "  </tbody>\n",
              "</table>\n",
              "<p>1929 rows × 10 columns</p>\n",
              "</div>"
            ],
            "text/plain": [
              "                    FB         AMZN  ...         HON        RTX\n",
              "Date                                 ...                       \n",
              "2013-01-02   28.000000   257.309998  ...   52.177025  43.797398\n",
              "2013-01-03   27.770000   258.480011  ...   52.378479  43.959026\n",
              "2013-01-04   28.760000   259.149994  ...   53.450203  44.308376\n",
              "2013-01-07   29.420000   268.459991  ...   53.474392  44.094601\n",
              "2013-01-08   29.059999   266.380005  ...   52.974777  43.562771\n",
              "...                ...          ...  ...         ...        ...\n",
              "2020-08-24  271.390015  3307.459961  ...  159.369995  61.880001\n",
              "2020-08-25  280.820007  3346.489990  ...  164.529999  60.950001\n",
              "2020-08-26  303.910004  3441.850098  ...  165.309998  60.770000\n",
              "2020-08-27  293.220001  3400.000000  ...  165.990005  60.900002\n",
              "2020-08-28  293.660004  3401.800049  ...  168.380005  62.240002\n",
              "\n",
              "[1929 rows x 10 columns]"
            ]
          },
          "metadata": {
            "tags": []
          },
          "execution_count": 29
        }
      ]
    },
    {
      "cell_type": "code",
      "metadata": {
        "id": "r1YX54b3uJwT",
        "colab_type": "code",
        "colab": {
          "base_uri": "https://localhost:8080/",
          "height": 325
        },
        "outputId": "5763a54d-ed68-4f45-e75a-2a77ac781afd"
      },
      "source": [
        "# Visually show the stock/portfolio\n",
        "title = 'Portfolio Adj. Close Price History'\n",
        "\n",
        "# Get the stocks\n",
        "my_stocks = df\n",
        "\n",
        "# Create and plot the graph\n",
        "for c in my_stocks.columns.values:\n",
        "  plt.plot(my_stocks[c], label = c)\n",
        "\n",
        "plt.title(title)\n",
        "plt.xlabel('Date', fontsize = 18)\n",
        "plt.ylabel('Adj. Close Price ($)', fontsize = 18)\n",
        "plt.legend(my_stocks.columns.values, loc='upper left')\n",
        "plt.show()"
      ],
      "execution_count": 30,
      "outputs": [
        {
          "output_type": "display_data",
          "data": {
            "image/png": "[encoded data removed]",
            "text/plain": [
              "<Figure size 432x288 with 1 Axes>"
            ]
          },
          "metadata": {
            "tags": []
          }
        }
      ]
    },
    {
      "cell_type": "code",
      "metadata": {
        "id": "iq0Cxp5-vFgA",
        "colab_type": "code",
        "colab": {
          "base_uri": "https://localhost:8080/",
          "height": 620
        },
        "outputId": "9a578425-6636-44db-b35e-8c0f28d2bcec"
      },
      "source": [
        "# Show the daily simple return\n",
        "returns = df.pct_change()\n",
        "returns"
      ],
      "execution_count": 31,
      "outputs": [
        {
          "output_type": "execute_result",
          "data": {
            "text/html": [
              "<div>\n",
              "<style scoped>\n",
              "    .dataframe tbody tr th:only-of-type {\n",
              "        vertical-align: middle;\n",
              "    }\n",
              "\n",
              "    .dataframe tbody tr th {\n",
              "        vertical-align: top;\n",
              "    }\n",
              "\n",
              "    .dataframe thead th {\n",
              "        text-align: right;\n",
              "    }\n",
              "</style>\n",
              "<table border=\"1\" class=\"dataframe\">\n",
              "  <thead>\n",
              "    <tr style=\"text-align: right;\">\n",
              "      <th></th>\n",
              "      <th>FB</th>\n",
              "      <th>AMZN</th>\n",
              "      <th>AAPL</th>\n",
              "      <th>NFLX</th>\n",
              "      <th>GOOG</th>\n",
              "      <th>MSFT</th>\n",
              "      <th>O</th>\n",
              "      <th>STAG</th>\n",
              "      <th>HON</th>\n",
              "      <th>RTX</th>\n",
              "    </tr>\n",
              "    <tr>\n",
              "      <th>Date</th>\n",
              "      <th></th>\n",
              "      <th></th>\n",
              "      <th></th>\n",
              "      <th></th>\n",
              "      <th></th>\n",
              "      <th></th>\n",
              "      <th></th>\n",
              "      <th></th>\n",
              "      <th></th>\n",
              "      <th></th>\n",
              "    </tr>\n",
              "  </thead>\n",
              "  <tbody>\n",
              "    <tr>\n",
              "      <th>2013-01-02</th>\n",
              "      <td>NaN</td>\n",
              "      <td>NaN</td>\n",
              "      <td>NaN</td>\n",
              "      <td>NaN</td>\n",
              "      <td>NaN</td>\n",
              "      <td>NaN</td>\n",
              "      <td>NaN</td>\n",
              "      <td>NaN</td>\n",
              "      <td>NaN</td>\n",
              "      <td>NaN</td>\n",
              "    </tr>\n",
              "    <tr>\n",
              "      <th>2013-01-03</th>\n",
              "      <td>-0.008214</td>\n",
              "      <td>0.004547</td>\n",
              "      <td>-0.012622</td>\n",
              "      <td>0.049777</td>\n",
              "      <td>0.000581</td>\n",
              "      <td>-0.013396</td>\n",
              "      <td>-0.002919</td>\n",
              "      <td>-0.008215</td>\n",
              "      <td>0.003861</td>\n",
              "      <td>0.003690</td>\n",
              "    </tr>\n",
              "    <tr>\n",
              "      <th>2013-01-04</th>\n",
              "      <td>0.035650</td>\n",
              "      <td>0.002592</td>\n",
              "      <td>-0.027855</td>\n",
              "      <td>-0.006315</td>\n",
              "      <td>0.019760</td>\n",
              "      <td>-0.018716</td>\n",
              "      <td>0.008295</td>\n",
              "      <td>0.000552</td>\n",
              "      <td>0.020461</td>\n",
              "      <td>0.007947</td>\n",
              "    </tr>\n",
              "    <tr>\n",
              "      <th>2013-01-07</th>\n",
              "      <td>0.022949</td>\n",
              "      <td>0.035925</td>\n",
              "      <td>-0.005882</td>\n",
              "      <td>0.033549</td>\n",
              "      <td>-0.004363</td>\n",
              "      <td>-0.001870</td>\n",
              "      <td>0.010162</td>\n",
              "      <td>0.005519</td>\n",
              "      <td>0.000453</td>\n",
              "      <td>-0.004825</td>\n",
              "    </tr>\n",
              "    <tr>\n",
              "      <th>2013-01-08</th>\n",
              "      <td>-0.012237</td>\n",
              "      <td>-0.007748</td>\n",
              "      <td>0.002692</td>\n",
              "      <td>-0.020565</td>\n",
              "      <td>-0.001974</td>\n",
              "      <td>-0.005246</td>\n",
              "      <td>0.004311</td>\n",
              "      <td>0.020856</td>\n",
              "      <td>-0.009343</td>\n",
              "      <td>-0.012061</td>\n",
              "    </tr>\n",
              "    <tr>\n",
              "      <th>...</th>\n",
              "      <td>...</td>\n",
              "      <td>...</td>\n",
              "      <td>...</td>\n",
              "      <td>...</td>\n",
              "      <td>...</td>\n",
              "      <td>...</td>\n",
              "      <td>...</td>\n",
              "      <td>...</td>\n",
              "      <td>...</td>\n",
              "      <td>...</td>\n",
              "    </tr>\n",
              "    <tr>\n",
              "      <th>2020-08-24</th>\n",
              "      <td>0.016404</td>\n",
              "      <td>0.006923</td>\n",
              "      <td>0.011960</td>\n",
              "      <td>-0.007109</td>\n",
              "      <td>0.004923</td>\n",
              "      <td>0.003145</td>\n",
              "      <td>0.021597</td>\n",
              "      <td>-0.009501</td>\n",
              "      <td>0.011873</td>\n",
              "      <td>0.026713</td>\n",
              "    </tr>\n",
              "    <tr>\n",
              "      <th>2020-08-25</th>\n",
              "      <td>0.034747</td>\n",
              "      <td>0.011801</td>\n",
              "      <td>-0.008204</td>\n",
              "      <td>0.003621</td>\n",
              "      <td>0.012605</td>\n",
              "      <td>0.013009</td>\n",
              "      <td>0.002082</td>\n",
              "      <td>0.005260</td>\n",
              "      <td>0.032378</td>\n",
              "      <td>-0.015029</td>\n",
              "    </tr>\n",
              "    <tr>\n",
              "      <th>2020-08-26</th>\n",
              "      <td>0.082223</td>\n",
              "      <td>0.028496</td>\n",
              "      <td>0.013599</td>\n",
              "      <td>0.116087</td>\n",
              "      <td>0.027459</td>\n",
              "      <td>0.021620</td>\n",
              "      <td>-0.014224</td>\n",
              "      <td>0.003078</td>\n",
              "      <td>0.004741</td>\n",
              "      <td>-0.002953</td>\n",
              "    </tr>\n",
              "    <tr>\n",
              "      <th>2020-08-27</th>\n",
              "      <td>-0.035175</td>\n",
              "      <td>-0.012159</td>\n",
              "      <td>-0.011954</td>\n",
              "      <td>-0.038829</td>\n",
              "      <td>-0.010924</td>\n",
              "      <td>0.024554</td>\n",
              "      <td>0.013294</td>\n",
              "      <td>0.008592</td>\n",
              "      <td>0.004114</td>\n",
              "      <td>0.002139</td>\n",
              "    </tr>\n",
              "    <tr>\n",
              "      <th>2020-08-28</th>\n",
              "      <td>0.001501</td>\n",
              "      <td>0.000529</td>\n",
              "      <td>-0.001620</td>\n",
              "      <td>-0.004522</td>\n",
              "      <td>0.006168</td>\n",
              "      <td>0.010283</td>\n",
              "      <td>0.015040</td>\n",
              "      <td>-0.006718</td>\n",
              "      <td>0.014398</td>\n",
              "      <td>0.022003</td>\n",
              "    </tr>\n",
              "  </tbody>\n",
              "</table>\n",
              "<p>1929 rows × 10 columns</p>\n",
              "</div>"
            ],
            "text/plain": [
              "                  FB      AMZN      AAPL  ...      STAG       HON       RTX\n",
              "Date                                      ...                              \n",
              "2013-01-02       NaN       NaN       NaN  ...       NaN       NaN       NaN\n",
              "2013-01-03 -0.008214  0.004547 -0.012622  ... -0.008215  0.003861  0.003690\n",
              "2013-01-04  0.035650  0.002592 -0.027855  ...  0.000552  0.020461  0.007947\n",
              "2013-01-07  0.022949  0.035925 -0.005882  ...  0.005519  0.000453 -0.004825\n",
              "2013-01-08 -0.012237 -0.007748  0.002692  ...  0.020856 -0.009343 -0.012061\n",
              "...              ...       ...       ...  ...       ...       ...       ...\n",
              "2020-08-24  0.016404  0.006923  0.011960  ... -0.009501  0.011873  0.026713\n",
              "2020-08-25  0.034747  0.011801 -0.008204  ...  0.005260  0.032378 -0.015029\n",
              "2020-08-26  0.082223  0.028496  0.013599  ...  0.003078  0.004741 -0.002953\n",
              "2020-08-27 -0.035175 -0.012159 -0.011954  ...  0.008592  0.004114  0.002139\n",
              "2020-08-28  0.001501  0.000529 -0.001620  ... -0.006718  0.014398  0.022003\n",
              "\n",
              "[1929 rows x 10 columns]"
            ]
          },
          "metadata": {
            "tags": []
          },
          "execution_count": 31
        }
      ]
    },
    {
      "cell_type": "code",
      "metadata": {
        "id": "KdwjCnjRvSIY",
        "colab_type": "code",
        "colab": {
          "base_uri": "https://localhost:8080/",
          "height": 359
        },
        "outputId": "f8e023d5-c420-4143-edfd-ab26f55cf586"
      },
      "source": [
        "# Create and show the annualized covariance matrix\n",
        "cov_matrix_annual = returns.cov() * 252\n",
        "cov_matrix_annual"
      ],
      "execution_count": 32,
      "outputs": [
        {
          "output_type": "execute_result",
          "data": {
            "text/html": [
              "<div>\n",
              "<style scoped>\n",
              "    .dataframe tbody tr th:only-of-type {\n",
              "        vertical-align: middle;\n",
              "    }\n",
              "\n",
              "    .dataframe tbody tr th {\n",
              "        vertical-align: top;\n",
              "    }\n",
              "\n",
              "    .dataframe thead th {\n",
              "        text-align: right;\n",
              "    }\n",
              "</style>\n",
              "<table border=\"1\" class=\"dataframe\">\n",
              "  <thead>\n",
              "    <tr style=\"text-align: right;\">\n",
              "      <th></th>\n",
              "      <th>FB</th>\n",
              "      <th>AMZN</th>\n",
              "      <th>AAPL</th>\n",
              "      <th>NFLX</th>\n",
              "      <th>GOOG</th>\n",
              "      <th>MSFT</th>\n",
              "      <th>O</th>\n",
              "      <th>STAG</th>\n",
              "      <th>HON</th>\n",
              "      <th>RTX</th>\n",
              "    </tr>\n",
              "  </thead>\n",
              "  <tbody>\n",
              "    <tr>\n",
              "      <th>FB</th>\n",
              "      <td>0.117905</td>\n",
              "      <td>0.052909</td>\n",
              "      <td>0.042439</td>\n",
              "      <td>0.055898</td>\n",
              "      <td>0.048968</td>\n",
              "      <td>0.042151</td>\n",
              "      <td>0.023756</td>\n",
              "      <td>0.029047</td>\n",
              "      <td>0.029484</td>\n",
              "      <td>0.028326</td>\n",
              "    </tr>\n",
              "    <tr>\n",
              "      <th>AMZN</th>\n",
              "      <td>0.052909</td>\n",
              "      <td>0.092589</td>\n",
              "      <td>0.036622</td>\n",
              "      <td>0.062029</td>\n",
              "      <td>0.046799</td>\n",
              "      <td>0.043458</td>\n",
              "      <td>0.015193</td>\n",
              "      <td>0.021684</td>\n",
              "      <td>0.022488</td>\n",
              "      <td>0.022609</td>\n",
              "    </tr>\n",
              "    <tr>\n",
              "      <th>AAPL</th>\n",
              "      <td>0.042439</td>\n",
              "      <td>0.036622</td>\n",
              "      <td>0.078189</td>\n",
              "      <td>0.032618</td>\n",
              "      <td>0.037227</td>\n",
              "      <td>0.042031</td>\n",
              "      <td>0.020738</td>\n",
              "      <td>0.027257</td>\n",
              "      <td>0.030259</td>\n",
              "      <td>0.030194</td>\n",
              "    </tr>\n",
              "    <tr>\n",
              "      <th>NFLX</th>\n",
              "      <td>0.055898</td>\n",
              "      <td>0.062029</td>\n",
              "      <td>0.032618</td>\n",
              "      <td>0.212853</td>\n",
              "      <td>0.049287</td>\n",
              "      <td>0.044175</td>\n",
              "      <td>0.013077</td>\n",
              "      <td>0.022356</td>\n",
              "      <td>0.023768</td>\n",
              "      <td>0.024371</td>\n",
              "    </tr>\n",
              "    <tr>\n",
              "      <th>GOOG</th>\n",
              "      <td>0.048968</td>\n",
              "      <td>0.046799</td>\n",
              "      <td>0.037227</td>\n",
              "      <td>0.049287</td>\n",
              "      <td>0.064868</td>\n",
              "      <td>0.043693</td>\n",
              "      <td>0.020601</td>\n",
              "      <td>0.026036</td>\n",
              "      <td>0.028739</td>\n",
              "      <td>0.029679</td>\n",
              "    </tr>\n",
              "    <tr>\n",
              "      <th>MSFT</th>\n",
              "      <td>0.042151</td>\n",
              "      <td>0.043458</td>\n",
              "      <td>0.042031</td>\n",
              "      <td>0.044175</td>\n",
              "      <td>0.043693</td>\n",
              "      <td>0.069174</td>\n",
              "      <td>0.025630</td>\n",
              "      <td>0.030846</td>\n",
              "      <td>0.031954</td>\n",
              "      <td>0.031669</td>\n",
              "    </tr>\n",
              "    <tr>\n",
              "      <th>O</th>\n",
              "      <td>0.023756</td>\n",
              "      <td>0.015193</td>\n",
              "      <td>0.020738</td>\n",
              "      <td>0.013077</td>\n",
              "      <td>0.020601</td>\n",
              "      <td>0.025630</td>\n",
              "      <td>0.074002</td>\n",
              "      <td>0.049297</td>\n",
              "      <td>0.029713</td>\n",
              "      <td>0.036497</td>\n",
              "    </tr>\n",
              "    <tr>\n",
              "      <th>STAG</th>\n",
              "      <td>0.029047</td>\n",
              "      <td>0.021684</td>\n",
              "      <td>0.027257</td>\n",
              "      <td>0.022356</td>\n",
              "      <td>0.026036</td>\n",
              "      <td>0.030846</td>\n",
              "      <td>0.049297</td>\n",
              "      <td>0.071049</td>\n",
              "      <td>0.031566</td>\n",
              "      <td>0.034872</td>\n",
              "    </tr>\n",
              "    <tr>\n",
              "      <th>HON</th>\n",
              "      <td>0.029484</td>\n",
              "      <td>0.022488</td>\n",
              "      <td>0.030259</td>\n",
              "      <td>0.023768</td>\n",
              "      <td>0.028739</td>\n",
              "      <td>0.031954</td>\n",
              "      <td>0.029713</td>\n",
              "      <td>0.031566</td>\n",
              "      <td>0.049340</td>\n",
              "      <td>0.042514</td>\n",
              "    </tr>\n",
              "    <tr>\n",
              "      <th>RTX</th>\n",
              "      <td>0.028326</td>\n",
              "      <td>0.022609</td>\n",
              "      <td>0.030194</td>\n",
              "      <td>0.024371</td>\n",
              "      <td>0.029679</td>\n",
              "      <td>0.031669</td>\n",
              "      <td>0.036497</td>\n",
              "      <td>0.034872</td>\n",
              "      <td>0.042514</td>\n",
              "      <td>0.065950</td>\n",
              "    </tr>\n",
              "  </tbody>\n",
              "</table>\n",
              "</div>"
            ],
            "text/plain": [
              "            FB      AMZN      AAPL  ...      STAG       HON       RTX\n",
              "FB    0.117905  0.052909  0.042439  ...  0.029047  0.029484  0.028326\n",
              "AMZN  0.052909  0.092589  0.036622  ...  0.021684  0.022488  0.022609\n",
              "AAPL  0.042439  0.036622  0.078189  ...  0.027257  0.030259  0.030194\n",
              "NFLX  0.055898  0.062029  0.032618  ...  0.022356  0.023768  0.024371\n",
              "GOOG  0.048968  0.046799  0.037227  ...  0.026036  0.028739  0.029679\n",
              "MSFT  0.042151  0.043458  0.042031  ...  0.030846  0.031954  0.031669\n",
              "O     0.023756  0.015193  0.020738  ...  0.049297  0.029713  0.036497\n",
              "STAG  0.029047  0.021684  0.027257  ...  0.071049  0.031566  0.034872\n",
              "HON   0.029484  0.022488  0.030259  ...  0.031566  0.049340  0.042514\n",
              "RTX   0.028326  0.022609  0.030194  ...  0.034872  0.042514  0.065950\n",
              "\n",
              "[10 rows x 10 columns]"
            ]
          },
          "metadata": {
            "tags": []
          },
          "execution_count": 32
        }
      ]
    },
    {
      "cell_type": "code",
      "metadata": {
        "id": "eq0NFo3vvtua",
        "colab_type": "code",
        "colab": {
          "base_uri": "https://localhost:8080/",
          "height": 34
        },
        "outputId": "12d90688-01f6-406f-aa4e-bebfbd094420"
      },
      "source": [
        "# Calculate the portfolio variance\n",
        "port_variance = np.dot(weights.T, np.dot(cov_matrix_annual, weights))\n",
        "port_variance"
      ],
      "execution_count": 33,
      "outputs": [
        {
          "output_type": "execute_result",
          "data": {
            "text/plain": [
              "0.03924965724069116"
            ]
          },
          "metadata": {
            "tags": []
          },
          "execution_count": 33
        }
      ]
    },
    {
      "cell_type": "code",
      "metadata": {
        "id": "f3iBpwu6wFu4",
        "colab_type": "code",
        "colab": {
          "base_uri": "https://localhost:8080/",
          "height": 34
        },
        "outputId": "611ac6a0-a01f-44d0-96c8-4107ae8fc59c"
      },
      "source": [
        "# Calculate the portfolio volatility (standard deviation)\n",
        "port_volatility = np.sqrt(port_variance)\n",
        "port_volatility"
      ],
      "execution_count": 34,
      "outputs": [
        {
          "output_type": "execute_result",
          "data": {
            "text/plain": [
              "0.19811526251324293"
            ]
          },
          "metadata": {
            "tags": []
          },
          "execution_count": 34
        }
      ]
    },
    {
      "cell_type": "code",
      "metadata": {
        "id": "p5UqGmBSwV6Y",
        "colab_type": "code",
        "colab": {
          "base_uri": "https://localhost:8080/",
          "height": 34
        },
        "outputId": "690cb0b1-565a-44a5-9449-773a6b9f7483"
      },
      "source": [
        "# Calculate the annual portfolio return\n",
        "portfolioSimpleAnnualReturn = np.sum(returns.mean() * weights) * 252\n",
        "portfolioSimpleAnnualReturn"
      ],
      "execution_count": 35,
      "outputs": [
        {
          "output_type": "execute_result",
          "data": {
            "text/plain": [
              "0.27637811879950236"
            ]
          },
          "metadata": {
            "tags": []
          },
          "execution_count": 35
        }
      ]
    },
    {
      "cell_type": "code",
      "metadata": {
        "id": "CfkASYjwwrzr",
        "colab_type": "code",
        "colab": {
          "base_uri": "https://localhost:8080/",
          "height": 68
        },
        "outputId": "9a91a1ee-1c09-4a4c-baf8-22fa6eea0e1c"
      },
      "source": [
        "# Show expected annual return, volatility (risk), and variance\n",
        "percent_variance = str(round(port_variance, 2) * 100) + '%'\n",
        "percent_volatility = str(round(port_volatility, 2) * 100) + '%'\n",
        "percent_return = str(round(portfolioSimpleAnnualReturn, 2) * 100) + '%'\n",
        "\n",
        "print('Expected annual return: ' + percent_return)\n",
        "print('Annual volatility/risk: ' + percent_volatility)\n",
        "print('Annual variance: ' + percent_variance)"
      ],
      "execution_count": 36,
      "outputs": [
        {
          "output_type": "stream",
          "text": [
            "Expected annual return: 28.000000000000004%\n",
            "Annual volatility/risk: 20.0%\n",
            "Annual variance: 4.0%\n"
          ],
          "name": "stdout"
        }
      ]
    },
    {
      "cell_type": "code",
      "metadata": {
        "id": "Y46nyJWb4cYv",
        "colab_type": "code",
        "colab": {
          "base_uri": "https://localhost:8080/",
          "height": 343
        },
        "outputId": "7923239e-a91a-4510-8158-026663ca615b"
      },
      "source": [
        "pip install PyPortfolioOpt"
      ],
      "execution_count": 42,
      "outputs": [
        {
          "output_type": "stream",
          "text": [
            "Collecting PyPortfolioOpt\n",
            "\u001b[?25l  Downloading https://files.pythonhosted.org/packages/4a/4a/043a7207683e3ab5698ea0828254e99cda718ef43d8b6785fb41b70037c1/PyPortfolioOpt-1.2.4-py3-none-any.whl (48kB)\n",
            "\r\u001b[K     |██████▉                         | 10kB 17.3MB/s eta 0:00:01\r\u001b[K     |█████████████▋                  | 20kB 1.8MB/s eta 0:00:01\r\u001b[K     |████████████████████▍           | 30kB 2.3MB/s eta 0:00:01\r\u001b[K     |███████████████████████████▏    | 40kB 2.6MB/s eta 0:00:01\r\u001b[K     |████████████████████████████████| 51kB 1.6MB/s \n",
            "\u001b[?25hRequirement already satisfied: pandas>=0.19 in /usr/local/lib/python3.6/dist-packages (from PyPortfolioOpt) (1.0.5)\n",
            "Requirement already satisfied: numpy<2.0,>=1.12 in /usr/local/lib/python3.6/dist-packages (from PyPortfolioOpt) (1.18.5)\n",
            "Requirement already satisfied: scipy<2.0,>=1.3 in /usr/local/lib/python3.6/dist-packages (from PyPortfolioOpt) (1.4.1)\n",
            "Requirement already satisfied: cvxpy<1.1,>=1.0 in /usr/local/lib/python3.6/dist-packages (from PyPortfolioOpt) (1.0.31)\n",
            "Requirement already satisfied: python-dateutil>=2.6.1 in /usr/local/lib/python3.6/dist-packages (from pandas>=0.19->PyPortfolioOpt) (2.8.1)\n",
            "Requirement already satisfied: pytz>=2017.2 in /usr/local/lib/python3.6/dist-packages (from pandas>=0.19->PyPortfolioOpt) (2018.9)\n",
            "Requirement already satisfied: multiprocess in /usr/local/lib/python3.6/dist-packages (from cvxpy<1.1,>=1.0->PyPortfolioOpt) (0.70.10)\n",
            "Requirement already satisfied: scs>=1.1.3 in /usr/local/lib/python3.6/dist-packages (from cvxpy<1.1,>=1.0->PyPortfolioOpt) (2.1.2)\n",
            "Requirement already satisfied: ecos>=2 in /usr/local/lib/python3.6/dist-packages (from cvxpy<1.1,>=1.0->PyPortfolioOpt) (2.0.7.post1)\n",
            "Requirement already satisfied: osqp>=0.4.1 in /usr/local/lib/python3.6/dist-packages (from cvxpy<1.1,>=1.0->PyPortfolioOpt) (0.6.1)\n",
            "Requirement already satisfied: six>=1.5 in /usr/local/lib/python3.6/dist-packages (from python-dateutil>=2.6.1->pandas>=0.19->PyPortfolioOpt) (1.15.0)\n",
            "Requirement already satisfied: dill>=0.3.2 in /usr/local/lib/python3.6/dist-packages (from multiprocess->cvxpy<1.1,>=1.0->PyPortfolioOpt) (0.3.2)\n",
            "Requirement already satisfied: future in /usr/local/lib/python3.6/dist-packages (from osqp>=0.4.1->cvxpy<1.1,>=1.0->PyPortfolioOpt) (0.16.0)\n",
            "Installing collected packages: PyPortfolioOpt\n",
            "Successfully installed PyPortfolioOpt-1.2.4\n"
          ],
          "name": "stdout"
        }
      ]
    },
    {
      "cell_type": "code",
      "metadata": {
        "id": "l63iL7xq5uAa",
        "colab_type": "code",
        "colab": {}
      },
      "source": [
        "from pypfopt.efficient_frontier import EfficientFrontier\n",
        "from pypfopt import risk_models\n",
        "from pypfopt import expected_returns"
      ],
      "execution_count": 43,
      "outputs": []
    },
    {
      "cell_type": "code",
      "metadata": {
        "id": "oGEA4tfF59OA",
        "colab_type": "code",
        "colab": {
          "base_uri": "https://localhost:8080/",
          "height": 122
        },
        "outputId": "d315b7ff-cbb3-4873-88e4-8445072cefac"
      },
      "source": [
        "# Portfolio Optimization\n",
        "\n",
        "# Calculate the expected returns and annualized sample covariance matrix of asset returns\n",
        "mu = expected_returns.mean_historical_return(df)\n",
        "S = risk_models.sample_cov(df)\n",
        "\n",
        "# Optimize for maximum Sharpe Ratio\n",
        "ef = EfficientFrontier(mu, S)\n",
        "weights = ef.max_sharpe()\n",
        "cleaned_weights = ef.clean_weights()\n",
        "print(cleaned_weights)\n",
        "ef.portfolio_performance(verbose = True)"
      ],
      "execution_count": 46,
      "outputs": [
        {
          "output_type": "stream",
          "text": [
            "OrderedDict([('FB', 0.0965), ('AMZN', 0.20788), ('AAPL', 0.16955), ('NFLX', 0.25659), ('GOOG', 0.0), ('MSFT', 0.26881), ('O', 0.00067), ('STAG', 0.0), ('HON', 0.0), ('RTX', 0.0)])\n",
            "Expected annual return: 40.6%\n",
            "Annual volatility: 24.8%\n",
            "Sharpe Ratio: 1.55\n"
          ],
          "name": "stdout"
        },
        {
          "output_type": "execute_result",
          "data": {
            "text/plain": [
              "(0.40560366555363264, 0.24833498364014556, 1.5527561195824058)"
            ]
          },
          "metadata": {
            "tags": []
          },
          "execution_count": 46
        }
      ]
    },
    {
      "cell_type": "code",
      "metadata": {
        "id": "hxeDohZa75HE",
        "colab_type": "code",
        "colab": {
          "base_uri": "https://localhost:8080/",
          "height": 51
        },
        "outputId": "bb838edd-3b37-4238-ae66-c21a19eb5740"
      },
      "source": [
        "# Get the discrete allocation of each share per stock\n",
        "from pypfopt.discrete_allocation import DiscreteAllocation, get_latest_prices\n",
        "\n",
        "latest_prices = get_latest_prices(df)\n",
        "weights = cleaned_weights\n",
        "da = DiscreteAllocation(weights, latest_prices, total_portfolio_value = 15000)\n",
        "\n",
        "allocation, leftover = da.lp_portfolio()\n",
        "print('Discrete allocation:', allocation)\n",
        "print('Funds remaining: ${:.2f}'.format(leftover))"
      ],
      "execution_count": 47,
      "outputs": [
        {
          "output_type": "stream",
          "text": [
            "Discrete allocation: {'FB': 5.0, 'AMZN': 1.0, 'AAPL': 5.0, 'NFLX': 7.0, 'MSFT': 17.0, 'O': 1.0}\n",
            "Funds remaining: $11.61\n"
          ],
          "name": "stdout"
        }
      ]
    }
  ]
}